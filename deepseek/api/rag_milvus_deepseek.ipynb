{
 "cells": [
  {
   "cell_type": "markdown",
   "id": "20549885",
   "metadata": {},
   "source": [
    "# 使用 Milvus 和 DeepSeek 构建 RAG\n",
    "\n",
    "DeepSeek 帮助开发者使用高性能语言模型构建和扩展 AI 应用。它提供高效的推理、灵活的 API 以及先进的专家混合 (MoE) 架构，用于强大的推理和检索任务。\n",
    "\n",
    "在本教程中，我们将展示如何使用 Milvus 和 DeepSeek 构建一个检索增强生成 (RAG) 管道。"
   ]
  },
  {
   "cell_type": "markdown",
   "id": "7394c701",
   "metadata": {},
   "source": [
    "## 准备工作"
   ]
  },
  {
   "cell_type": "markdown",
   "id": "89103a1e",
   "metadata": {},
   "source": [
    "### 依赖与环境"
   ]
  },
  {
   "cell_type": "code",
   "execution_count": 1,
   "id": "9c18d7b4",
   "metadata": {
    "jupyter": {
     "source_hidden": true
    }
   },
   "outputs": [
    {
     "name": "stdout",
     "output_type": "stream",
     "text": [
      "Requirement already satisfied: pymilvus==2.5.10 in /Users/guoyufei/miniconda3/envs/deepseek/lib/python3.13/site-packages (from pymilvus[model]==2.5.10) (2.5.10)\n",
      "Requirement already satisfied: openai==1.82.0 in /Users/guoyufei/miniconda3/envs/deepseek/lib/python3.13/site-packages (1.82.0)\n",
      "Requirement already satisfied: requests==2.32.3 in /Users/guoyufei/miniconda3/envs/deepseek/lib/python3.13/site-packages (2.32.3)\n",
      "Requirement already satisfied: tqdm==4.67.1 in /Users/guoyufei/miniconda3/envs/deepseek/lib/python3.13/site-packages (4.67.1)\n",
      "Requirement already satisfied: torch==2.7.0 in /Users/guoyufei/miniconda3/envs/deepseek/lib/python3.13/site-packages (2.7.0)\n",
      "Requirement already satisfied: setuptools>69 in /Users/guoyufei/miniconda3/envs/deepseek/lib/python3.13/site-packages (from pymilvus==2.5.10->pymilvus[model]==2.5.10) (78.1.1)\n",
      "Requirement already satisfied: grpcio<=1.67.1,>=1.49.1 in /Users/guoyufei/miniconda3/envs/deepseek/lib/python3.13/site-packages (from pymilvus==2.5.10->pymilvus[model]==2.5.10) (1.67.1)\n",
      "Requirement already satisfied: protobuf>=3.20.0 in /Users/guoyufei/miniconda3/envs/deepseek/lib/python3.13/site-packages (from pymilvus==2.5.10->pymilvus[model]==2.5.10) (6.31.1)\n",
      "Requirement already satisfied: python-dotenv<2.0.0,>=1.0.1 in /Users/guoyufei/miniconda3/envs/deepseek/lib/python3.13/site-packages (from pymilvus==2.5.10->pymilvus[model]==2.5.10) (1.1.1)\n",
      "Requirement already satisfied: ujson>=2.0.0 in /Users/guoyufei/miniconda3/envs/deepseek/lib/python3.13/site-packages (from pymilvus==2.5.10->pymilvus[model]==2.5.10) (5.10.0)\n",
      "Requirement already satisfied: pandas>=1.2.4 in /Users/guoyufei/miniconda3/envs/deepseek/lib/python3.13/site-packages (from pymilvus==2.5.10->pymilvus[model]==2.5.10) (2.3.1)\n",
      "Requirement already satisfied: milvus-lite>=2.4.0 in /Users/guoyufei/miniconda3/envs/deepseek/lib/python3.13/site-packages (from pymilvus==2.5.10->pymilvus[model]==2.5.10) (2.5.1)\n",
      "Requirement already satisfied: anyio<5,>=3.5.0 in /Users/guoyufei/miniconda3/envs/deepseek/lib/python3.13/site-packages (from openai==1.82.0) (4.9.0)\n",
      "Requirement already satisfied: distro<2,>=1.7.0 in /Users/guoyufei/miniconda3/envs/deepseek/lib/python3.13/site-packages (from openai==1.82.0) (1.9.0)\n",
      "Requirement already satisfied: httpx<1,>=0.23.0 in /Users/guoyufei/miniconda3/envs/deepseek/lib/python3.13/site-packages (from openai==1.82.0) (0.28.1)\n",
      "Requirement already satisfied: jiter<1,>=0.4.0 in /Users/guoyufei/miniconda3/envs/deepseek/lib/python3.13/site-packages (from openai==1.82.0) (0.10.0)\n",
      "Requirement already satisfied: pydantic<3,>=1.9.0 in /Users/guoyufei/miniconda3/envs/deepseek/lib/python3.13/site-packages (from openai==1.82.0) (2.11.7)\n",
      "Requirement already satisfied: sniffio in /Users/guoyufei/miniconda3/envs/deepseek/lib/python3.13/site-packages (from openai==1.82.0) (1.3.1)\n",
      "Requirement already satisfied: typing-extensions<5,>=4.11 in /Users/guoyufei/miniconda3/envs/deepseek/lib/python3.13/site-packages (from openai==1.82.0) (4.14.1)\n",
      "Requirement already satisfied: charset-normalizer<4,>=2 in /Users/guoyufei/miniconda3/envs/deepseek/lib/python3.13/site-packages (from requests==2.32.3) (3.4.2)\n",
      "Requirement already satisfied: idna<4,>=2.5 in /Users/guoyufei/miniconda3/envs/deepseek/lib/python3.13/site-packages (from requests==2.32.3) (3.10)\n",
      "Requirement already satisfied: urllib3<3,>=1.21.1 in /Users/guoyufei/miniconda3/envs/deepseek/lib/python3.13/site-packages (from requests==2.32.3) (2.5.0)\n",
      "Requirement already satisfied: certifi>=2017.4.17 in /Users/guoyufei/miniconda3/envs/deepseek/lib/python3.13/site-packages (from requests==2.32.3) (2025.7.9)\n",
      "Requirement already satisfied: filelock in /Users/guoyufei/miniconda3/envs/deepseek/lib/python3.13/site-packages (from torch==2.7.0) (3.18.0)\n",
      "Requirement already satisfied: sympy>=1.13.3 in /Users/guoyufei/miniconda3/envs/deepseek/lib/python3.13/site-packages (from torch==2.7.0) (1.14.0)\n",
      "Requirement already satisfied: networkx in /Users/guoyufei/miniconda3/envs/deepseek/lib/python3.13/site-packages (from torch==2.7.0) (3.5)\n",
      "Requirement already satisfied: jinja2 in /Users/guoyufei/miniconda3/envs/deepseek/lib/python3.13/site-packages (from torch==2.7.0) (3.1.6)\n",
      "Requirement already satisfied: fsspec in /Users/guoyufei/miniconda3/envs/deepseek/lib/python3.13/site-packages (from torch==2.7.0) (2025.5.1)\n",
      "Requirement already satisfied: pymilvus.model>=0.3.0 in /Users/guoyufei/miniconda3/envs/deepseek/lib/python3.13/site-packages (from pymilvus[model]==2.5.10) (0.3.2)\n",
      "Requirement already satisfied: httpcore==1.* in /Users/guoyufei/miniconda3/envs/deepseek/lib/python3.13/site-packages (from httpx<1,>=0.23.0->openai==1.82.0) (1.0.9)\n",
      "Requirement already satisfied: h11>=0.16 in /Users/guoyufei/miniconda3/envs/deepseek/lib/python3.13/site-packages (from httpcore==1.*->httpx<1,>=0.23.0->openai==1.82.0) (0.16.0)\n",
      "Requirement already satisfied: annotated-types>=0.6.0 in /Users/guoyufei/miniconda3/envs/deepseek/lib/python3.13/site-packages (from pydantic<3,>=1.9.0->openai==1.82.0) (0.7.0)\n",
      "Requirement already satisfied: pydantic-core==2.33.2 in /Users/guoyufei/miniconda3/envs/deepseek/lib/python3.13/site-packages (from pydantic<3,>=1.9.0->openai==1.82.0) (2.33.2)\n",
      "Requirement already satisfied: typing-inspection>=0.4.0 in /Users/guoyufei/miniconda3/envs/deepseek/lib/python3.13/site-packages (from pydantic<3,>=1.9.0->openai==1.82.0) (0.4.1)\n",
      "Requirement already satisfied: numpy>=1.26.0 in /Users/guoyufei/miniconda3/envs/deepseek/lib/python3.13/site-packages (from pandas>=1.2.4->pymilvus==2.5.10->pymilvus[model]==2.5.10) (2.3.1)\n",
      "Requirement already satisfied: python-dateutil>=2.8.2 in /Users/guoyufei/miniconda3/envs/deepseek/lib/python3.13/site-packages (from pandas>=1.2.4->pymilvus==2.5.10->pymilvus[model]==2.5.10) (2.9.0.post0)\n",
      "Requirement already satisfied: pytz>=2020.1 in /Users/guoyufei/miniconda3/envs/deepseek/lib/python3.13/site-packages (from pandas>=1.2.4->pymilvus==2.5.10->pymilvus[model]==2.5.10) (2025.2)\n",
      "Requirement already satisfied: tzdata>=2022.7 in /Users/guoyufei/miniconda3/envs/deepseek/lib/python3.13/site-packages (from pandas>=1.2.4->pymilvus==2.5.10->pymilvus[model]==2.5.10) (2025.2)\n",
      "Requirement already satisfied: transformers>=4.36.0 in /Users/guoyufei/miniconda3/envs/deepseek/lib/python3.13/site-packages (from pymilvus.model>=0.3.0->pymilvus[model]==2.5.10) (4.53.1)\n",
      "Requirement already satisfied: onnxruntime in /Users/guoyufei/miniconda3/envs/deepseek/lib/python3.13/site-packages (from pymilvus.model>=0.3.0->pymilvus[model]==2.5.10) (1.22.0)\n",
      "Requirement already satisfied: scipy>=1.10.0 in /Users/guoyufei/miniconda3/envs/deepseek/lib/python3.13/site-packages (from pymilvus.model>=0.3.0->pymilvus[model]==2.5.10) (1.16.0)\n",
      "Requirement already satisfied: six>=1.5 in /Users/guoyufei/miniconda3/envs/deepseek/lib/python3.13/site-packages (from python-dateutil>=2.8.2->pandas>=1.2.4->pymilvus==2.5.10->pymilvus[model]==2.5.10) (1.17.0)\n",
      "Requirement already satisfied: mpmath<1.4,>=1.1.0 in /Users/guoyufei/miniconda3/envs/deepseek/lib/python3.13/site-packages (from sympy>=1.13.3->torch==2.7.0) (1.3.0)\n",
      "Requirement already satisfied: huggingface-hub<1.0,>=0.30.0 in /Users/guoyufei/miniconda3/envs/deepseek/lib/python3.13/site-packages (from transformers>=4.36.0->pymilvus.model>=0.3.0->pymilvus[model]==2.5.10) (0.33.2)\n",
      "Requirement already satisfied: packaging>=20.0 in /Users/guoyufei/miniconda3/envs/deepseek/lib/python3.13/site-packages (from transformers>=4.36.0->pymilvus.model>=0.3.0->pymilvus[model]==2.5.10) (25.0)\n",
      "Requirement already satisfied: pyyaml>=5.1 in /Users/guoyufei/miniconda3/envs/deepseek/lib/python3.13/site-packages (from transformers>=4.36.0->pymilvus.model>=0.3.0->pymilvus[model]==2.5.10) (6.0.2)\n",
      "Requirement already satisfied: regex!=2019.12.17 in /Users/guoyufei/miniconda3/envs/deepseek/lib/python3.13/site-packages (from transformers>=4.36.0->pymilvus.model>=0.3.0->pymilvus[model]==2.5.10) (2024.11.6)\n",
      "Requirement already satisfied: tokenizers<0.22,>=0.21 in /Users/guoyufei/miniconda3/envs/deepseek/lib/python3.13/site-packages (from transformers>=4.36.0->pymilvus.model>=0.3.0->pymilvus[model]==2.5.10) (0.21.2)\n",
      "Requirement already satisfied: safetensors>=0.4.3 in /Users/guoyufei/miniconda3/envs/deepseek/lib/python3.13/site-packages (from transformers>=4.36.0->pymilvus.model>=0.3.0->pymilvus[model]==2.5.10) (0.5.3)\n",
      "Requirement already satisfied: hf-xet<2.0.0,>=1.1.2 in /Users/guoyufei/miniconda3/envs/deepseek/lib/python3.13/site-packages (from huggingface-hub<1.0,>=0.30.0->transformers>=4.36.0->pymilvus.model>=0.3.0->pymilvus[model]==2.5.10) (1.1.5)\n",
      "Requirement already satisfied: MarkupSafe>=2.0 in /Users/guoyufei/miniconda3/envs/deepseek/lib/python3.13/site-packages (from jinja2->torch==2.7.0) (3.0.2)\n",
      "Requirement already satisfied: coloredlogs in /Users/guoyufei/miniconda3/envs/deepseek/lib/python3.13/site-packages (from onnxruntime->pymilvus.model>=0.3.0->pymilvus[model]==2.5.10) (15.0.1)\n",
      "Requirement already satisfied: flatbuffers in /Users/guoyufei/miniconda3/envs/deepseek/lib/python3.13/site-packages (from onnxruntime->pymilvus.model>=0.3.0->pymilvus[model]==2.5.10) (25.2.10)\n",
      "Requirement already satisfied: humanfriendly>=9.1 in /Users/guoyufei/miniconda3/envs/deepseek/lib/python3.13/site-packages (from coloredlogs->onnxruntime->pymilvus.model>=0.3.0->pymilvus[model]==2.5.10) (10.0)\n"
     ]
    }
   ],
   "source": [
    "!pip install \"pymilvus[model]==2.5.10\" openai==1.82.0 requests==2.32.3 tqdm==4.67.1 torch==2.7.0"
   ]
  },
  {
   "cell_type": "markdown",
   "id": "1b3c0999-d670-41a9-afbd-d8a020fe1631",
   "metadata": {},
   "source": [
    "---"
   ]
  },
  {
   "cell_type": "code",
   "execution_count": 2,
   "id": "375ad823",
   "metadata": {},
   "outputs": [
    {
     "name": "stdout",
     "output_type": "stream",
     "text": [
      "sk-07e6f47e66ba400f827d4e013f46f9b6\n"
     ]
    }
   ],
   "source": [
    "import os\n",
    "\n",
    "# 从环境变量获取 DeepSeek API Key\n",
    "api_key = os.getenv(\"DEEPSEEK_API_KEY\")\n",
    "print(api_key)"
   ]
  },
  {
   "cell_type": "markdown",
   "id": "db44bb26",
   "metadata": {},
   "source": [
    "### 准备数据"
   ]
  },
  {
   "cell_type": "markdown",
   "id": "25f92a95",
   "metadata": {},
   "source": [
    "我们使用 Milvus 文档 2.4.x 中的 FAQ 页面作为我们 RAG 中的私有知识库，这是一个简单 RAG 管道的良好数据源。"
   ]
  },
  {
   "cell_type": "markdown",
   "id": "a1a8b9e2",
   "metadata": {},
   "source": [
    "下载 zip 文件并将文档解压到 `milvus_docs` 文件夹。\n",
    "\n",
    "**建议在命令行执行下面命令**"
   ]
  },
  {
   "cell_type": "code",
   "execution_count": 3,
   "id": "a81fa031",
   "metadata": {},
   "outputs": [],
   "source": [
    "#!wget https://github.com/milvus-io/milvus-docs/releases/download/v2.4.6-preview/milvus_docs_2.4.x_en.zip\n",
    "#!unzip -q milvus_docs_2.4.x_en.zip -d milvus_docs"
   ]
  },
  {
   "cell_type": "markdown",
   "id": "d1198466",
   "metadata": {},
   "source": [
    "我们从 `milvus_docs/en/faq` 文件夹加载所有 markdown 文件。对于每个文档，我们简单地使用 \"# \" 来分割文件中的内容，这样可以大致分离出 markdown 文件中每个主要部分的内容。"
   ]
  },
  {
   "cell_type": "code",
   "execution_count": 4,
   "id": "83bcf9f1-69f7-4357-8708-ec53980b7448",
   "metadata": {},
   "outputs": [],
   "source": [
    "from glob import glob\n",
    "\n",
    "text_lines = []\n",
    "\n",
    "for file_path in glob(\"mfd.md\", recursive=True):\n",
    "    with open(file_path, \"r\") as file:\n",
    "        file_text = file.read()\n",
    "\n",
    "    text_lines += file_text.split(\"# \")"
   ]
  },
  {
   "cell_type": "code",
   "execution_count": 5,
   "id": "01b73e74-ee7d-4daf-b7db-1c7a10bfc0bf",
   "metadata": {},
   "outputs": [
    {
     "data": {
      "text/plain": [
       "30"
      ]
     },
     "execution_count": 5,
     "metadata": {},
     "output_type": "execute_result"
    }
   ],
   "source": [
    "len(text_lines)"
   ]
  },
  {
   "cell_type": "markdown",
   "id": "4cc2a0b8",
   "metadata": {},
   "source": [
    "### 准备 LLM 和 Embedding 模型"
   ]
  },
  {
   "cell_type": "markdown",
   "id": "19eaff7a",
   "metadata": {},
   "source": [
    "DeepSeek 支持 OpenAI 风格的 API，您可以使用相同的 API 进行微小调整来调用 LLM。"
   ]
  },
  {
   "cell_type": "code",
   "execution_count": 6,
   "id": "b994eb47",
   "metadata": {},
   "outputs": [],
   "source": [
    "from openai import OpenAI\n",
    "\n",
    "deepseek_client = OpenAI(\n",
    "    api_key=api_key,\n",
    "    base_url=\"https://api.deepseek.com/v1\",  # DeepSeek API 的基地址\n",
    ")"
   ]
  },
  {
   "cell_type": "markdown",
   "id": "1cc5a5e2",
   "metadata": {},
   "source": [
    "定义一个 embedding 模型，使用 `milvus_model` 来生成文本嵌入。我们以 `DefaultEmbeddingFunction` 模型为例，这是一个预训练的轻量级嵌入模型。"
   ]
  },
  {
   "cell_type": "code",
   "execution_count": 7,
   "id": "3a94242a",
   "metadata": {},
   "outputs": [
    {
     "name": "stderr",
     "output_type": "stream",
     "text": [
      "/Users/guoyufei/miniconda3/envs/deepseek/lib/python3.13/site-packages/tqdm/auto.py:21: TqdmWarning: IProgress not found. Please update jupyter and ipywidgets. See https://ipywidgets.readthedocs.io/en/stable/user_install.html\n",
      "  from .autonotebook import tqdm as notebook_tqdm\n"
     ]
    }
   ],
   "source": [
    "from pymilvus import model as milvus_model\n",
    "\n",
    "embedding_model = milvus_model.DefaultEmbeddingFunction()"
   ]
  },
  {
   "cell_type": "markdown",
   "id": "93fb1696",
   "metadata": {},
   "source": [
    "生成一个测试嵌入并打印其维度和前几个元素。"
   ]
  },
  {
   "cell_type": "code",
   "execution_count": 8,
   "id": "88a27567",
   "metadata": {},
   "outputs": [
    {
     "name": "stdout",
     "output_type": "stream",
     "text": [
      "768\n",
      "[-0.04836056  0.07163018 -0.01130064 -0.03789344 -0.03320646 -0.01318444\n",
      " -0.03041711 -0.02269505 -0.02317867 -0.00426023]\n"
     ]
    }
   ],
   "source": [
    "test_embedding = embedding_model.encode_queries([\"This is a test\"])[0]\n",
    "embedding_dim = len(test_embedding)\n",
    "print(embedding_dim)\n",
    "print(test_embedding[:10])"
   ]
  },
  {
   "cell_type": "code",
   "execution_count": 9,
   "id": "f7683f3a-d9e4-4c8e-9a66-c341911bef6b",
   "metadata": {},
   "outputs": [
    {
     "name": "stdout",
     "output_type": "stream",
     "text": [
      "[-0.0275297   0.06088526  0.00388529 -0.00215193 -0.02774976 -0.01186187\n",
      " -0.04020914 -0.06023425 -0.03813157  0.01002724]\n"
     ]
    }
   ],
   "source": [
    "test_embedding_0 = embedding_model.encode_queries([\"That is a test\"])[0]\n",
    "print(test_embedding_0[:10])"
   ]
  },
  {
   "cell_type": "markdown",
   "id": "5a778887",
   "metadata": {},
   "source": [
    "## 将数据加载到 Milvus"
   ]
  },
  {
   "cell_type": "markdown",
   "id": "02b23a24",
   "metadata": {},
   "source": [
    "### 创建 Collection"
   ]
  },
  {
   "cell_type": "code",
   "execution_count": 10,
   "id": "95e84b8c",
   "metadata": {},
   "outputs": [
    {
     "name": "stderr",
     "output_type": "stream",
     "text": [
      "huggingface/tokenizers: The current process just got forked, after parallelism has already been used. Disabling parallelism to avoid deadlocks...\n",
      "To disable this warning, you can either:\n",
      "\t- Avoid using `tokenizers` before the fork if possible\n",
      "\t- Explicitly set the environment variable TOKENIZERS_PARALLELISM=(true | false)\n"
     ]
    }
   ],
   "source": [
    "from pymilvus import MilvusClient\n",
    "\n",
    "milvus_client = MilvusClient(uri=\"./milvus_demo.db\")\n",
    "\n",
    "collection_name = \"my_rag_collection\""
   ]
  },
  {
   "cell_type": "markdown",
   "id": "68648561",
   "metadata": {},
   "source": [
    "关于 `MilvusClient` 的参数：\n",
    "\n",
    "*   将 `uri` 设置为本地文件，例如 `./milvus.db`，是最方便的方法，因为它会自动利用 Milvus Lite 将所有数据存储在此文件中。\n",
    "*   如果您有大规模数据，可以在 Docker 或 Kubernetes 上设置性能更高的 Milvus 服务器。在此设置中，请使用服务器 URI，例如 `http://localhost:19530`，作为您的 `uri`。\n",
    "*   如果您想使用 Zilliz Cloud（Milvus 的完全托管云服务），请调整 `uri` 和 `token`，它们对应 Zilliz Cloud 中的 Public Endpoint 和 Api key。"
   ]
  },
  {
   "cell_type": "markdown",
   "id": "5ce1bf3e",
   "metadata": {},
   "source": [
    "检查 collection 是否已存在，如果存在则删除它。"
   ]
  },
  {
   "cell_type": "code",
   "execution_count": 11,
   "id": "aee85c08",
   "metadata": {},
   "outputs": [],
   "source": [
    "if milvus_client.has_collection(collection_name):\n",
    "    milvus_client.drop_collection(collection_name)"
   ]
  },
  {
   "cell_type": "markdown",
   "id": "73eb379f",
   "metadata": {},
   "source": [
    "创建一个具有指定参数的新 collection。\n",
    "\n",
    "如果我们不指定任何字段信息，Milvus 将自动创建一个默认的 `id` 字段作为主键，以及一个 `vector` 字段来存储向量数据。一个保留的 JSON 字段用于存储非 schema 定义的字段及其值。\n",
    "\n",
    "`metric_type` (距离度量类型):\n",
    "     作用：定义如何计算向量之间的相似程度。\n",
    "     例如：`IP` (内积) - 值越大通常越相似；`L2` (欧氏距离) - 值越小越相似；`COSINE` (余弦相似度) - 通常转换为距离，值越小越相似。\n",
    "     选择依据：根据你的嵌入模型的特性和期望的相似性定义来选择。\n",
    "\n",
    " `consistency_level` (一致性级别):\n",
    "     作用：定义数据写入后，读取操作能多快看到这些新数据。\n",
    "     例如：\n",
    "         `Strong` (强一致性): 总是读到最新数据，可能稍慢。\n",
    "         `Bounded` (有界过期): 可能读到几秒内旧数据，性能较好 (默认)。\n",
    "         `Session` (会话一致性): 自己写入的自己能立刻读到。\n",
    "         `Eventually` (最终一致性): 最终会读到新数据，但没时间保证，性能最好。\n",
    "     选择依据：在数据实时性要求和系统性能之间做权衡。\n",
    "\n",
    "简单来说：\n",
    " `metric_type`：怎么算相似。\n",
    " `consistency_level`：新数据多久能被读到。"
   ]
  },
  {
   "cell_type": "code",
   "execution_count": 12,
   "id": "bd0b2df8",
   "metadata": {},
   "outputs": [],
   "source": [
    "milvus_client.create_collection(\n",
    "    collection_name=collection_name,\n",
    "    dimension=embedding_dim,\n",
    "    metric_type=\"IP\",  # 内积距离\n",
    "    consistency_level=\"Strong\",  # 支持的值为 (`\"Strong\"`, `\"Session\"`, `\"Bounded\"`, `\"Eventually\"`)。更多详情请参见 https://milvus.io/docs/consistency.md#Consistency-Level。\n",
    ")"
   ]
  },
  {
   "cell_type": "markdown",
   "id": "9c15bafb",
   "metadata": {},
   "source": [
    "### 插入数据"
   ]
  },
  {
   "cell_type": "markdown",
   "id": "171d3b35",
   "metadata": {},
   "source": [
    "遍历文本行，创建嵌入，然后将数据插入 Milvus。\n",
    "\n",
    "这里有一个新字段 `text`，它是在 collection schema 中未定义的字段。它将自动添加到保留的 JSON 动态字段中，该字段在高级别上可以被视为普通字段。"
   ]
  },
  {
   "cell_type": "code",
   "execution_count": 13,
   "id": "ad077094",
   "metadata": {},
   "outputs": [
    {
     "name": "stderr",
     "output_type": "stream",
     "text": [
      "huggingface/tokenizers: The current process just got forked, after parallelism has already been used. Disabling parallelism to avoid deadlocks...\n",
      "To disable this warning, you can either:\n",
      "\t- Avoid using `tokenizers` before the fork if possible\n",
      "\t- Explicitly set the environment variable TOKENIZERS_PARALLELISM=(true | false)\n",
      "Creating embeddings: 100%|██████████████████| 30/30 [00:00<00:00, 353452.58it/s]\n"
     ]
    },
    {
     "data": {
      "text/plain": [
       "{'insert_count': 30, 'ids': [0, 1, 2, 3, 4, 5, 6, 7, 8, 9, 10, 11, 12, 13, 14, 15, 16, 17, 18, 19, 20, 21, 22, 23, 24, 25, 26, 27, 28, 29], 'cost': 0}"
      ]
     },
     "execution_count": 13,
     "metadata": {},
     "output_type": "execute_result"
    }
   ],
   "source": [
    "from tqdm import tqdm\n",
    "\n",
    "data = []\n",
    "\n",
    "doc_embeddings = embedding_model.encode_documents(text_lines)\n",
    "\n",
    "for i, line in enumerate(tqdm(text_lines, desc=\"Creating embeddings\")):\n",
    "    data.append({\"id\": i, \"vector\": doc_embeddings[i], \"text\": line})\n",
    "\n",
    "milvus_client.insert(collection_name=collection_name, data=data)"
   ]
  },
  {
   "cell_type": "markdown",
   "id": "bd971f6b",
   "metadata": {},
   "source": [
    "## 构建 RAG"
   ]
  },
  {
   "cell_type": "markdown",
   "id": "534dc076",
   "metadata": {},
   "source": [
    "### 检索查询数据"
   ]
  },
  {
   "cell_type": "markdown",
   "id": "5a6fd7e7",
   "metadata": {},
   "source": [
    "我们指定一个关于 Milvus 的常见问题。"
   ]
  },
  {
   "cell_type": "code",
   "execution_count": 14,
   "id": "6e2f5c6a",
   "metadata": {},
   "outputs": [],
   "source": [
    "question = \"审查申请人提供的材料是哪一条的？\""
   ]
  },
  {
   "cell_type": "markdown",
   "id": "52401a38",
   "metadata": {},
   "source": [
    "在 collection 中搜索该问题，并检索语义上最匹配的前3个结果。"
   ]
  },
  {
   "cell_type": "code",
   "execution_count": 15,
   "id": "0dd4cbac",
   "metadata": {},
   "outputs": [],
   "source": [
    "search_res = milvus_client.search(\n",
    "    collection_name=collection_name,\n",
    "    data=embedding_model.encode_queries(\n",
    "        [question]\n",
    "    ),  # 将问题转换为嵌入向量\n",
    "    limit=3,  # 返回前3个结果\n",
    "    search_params={\"metric_type\": \"IP\", \"params\": {}},  # 内积距离\n",
    "    output_fields=[\"text\"],  # 返回 text 字段\n",
    ")"
   ]
  },
  {
   "cell_type": "markdown",
   "id": "ffcce135",
   "metadata": {},
   "source": [
    "让我们看一下查询的搜索结果"
   ]
  },
  {
   "cell_type": "code",
   "execution_count": 16,
   "id": "6a7f6eb3",
   "metadata": {},
   "outputs": [
    {
     "name": "stdout",
     "output_type": "stream",
     "text": [
      "[\n",
      "    [\n",
      "        \"\\u4e8c\\u3001\\u6743\\u5229\\u8d28\\u6743\\n\\n**\\u7b2c\\u56db\\u767e\\u56db\\u5341\\u4e5d\\u6761** \\u53ef\\u4ee5\\u51fa\\u8d28\\u7684\\u6743\\u5229\\u5305\\u62ec\\uff1a\\n\\uff08\\u4e00\\uff09\\u6c47\\u7968\\u3001\\u672c\\u7968\\u3001\\u652f\\u7968\\uff1b\\n\\uff08\\u4e8c\\uff09\\u503a\\u5238\\u3001\\u5b58\\u6b3e\\u5355\\uff1b\\n\\uff08\\u4e09\\uff09\\u4ed3\\u5355\\u3001\\u63d0\\u5355\\uff1b\\n\\uff08\\u56db\\uff09\\u53ef\\u4ee5\\u8f6c\\u8ba9\\u7684\\u57fa\\u91d1\\u4efd\\u989d\\u3001\\u80a1\\u6743\\uff1b\\n\\uff08\\u4e94\\uff09\\u53ef\\u4ee5\\u8f6c\\u8ba9\\u7684\\u6ce8\\u518c\\u5546\\u6807\\u4e13\\u7528\\u6743\\u3001\\u4e13\\u5229\\u6743\\u3001\\u8457\\u4f5c\\u6743\\u7b49\\u77e5\\u8bc6\\u4ea7\\u6743\\u4e2d\\u7684\\u8d22\\u4ea7\\u6743\\uff1b\\n\\uff08\\u516d\\uff09\\u5e94\\u6536\\u8d26\\u6b3e\\uff1b\\n\\uff08\\u4e03\\uff09\\u6cd5\\u5f8b\\u3001\\u884c\\u653f\\u6cd5\\u89c4\\u89c4\\u5b9a\\u53ef\\u4ee5\\u51fa\\u8d28\\u7684\\u5176\\u4ed6\\u8d22\\u4ea7\\u6743\\u5229\\u3002\\n\\n**\\u7b2c\\u56db\\u767e\\u4e94\\u5341\\u6761** \\u4ee5\\u6c47\\u7968\\u3001\\u672c\\u7968\\u3001\\u652f\\u7968\\u3001\\u503a\\u5238\\u3001\\u5b58\\u6b3e\\u5355\\u3001\\u4ed3\\u5355\\u3001\\u63d0\\u5355\\u51fa\\u8d28\\u7684\\uff0c\\u5f53\\u4e8b\\u4eba\\u5e94\\u5f53\\u8ba2\\u7acb\\u4e66\\u9762\\u5408\\u540c\\u3002\\u8d28\\u6743\\u81ea\\u6743\\u5229\\u51ed\\u8bc1\\u4ea4\\u4ed8\\u4e4b\\u65e5\\u8d77\\u8bbe\\u7acb\\u3002\\n\\n**\\u7b2c\\u56db\\u767e\\u4e94\\u5341\\u4e00\\u6761** \\u4ee5\\u8bb0\\u540d\\u80a1\\u7968\\u51fa\\u8d28\\u7684\\uff0c\\u5f53\\u4e8b\\u4eba\\u5e94\\u5f53\\u8ba2\\u7acb\\u4e66\\u9762\\u5408\\u540c\\u3002\\u8d28\\u6743\\u81ea\\u80a1\\u7968\\u4ea4\\u4ed8\\u4e4b\\u65e5\\u8d77\\u8bbe\\u7acb\\u3002\\n\\u4ee5\\u672a\\u4e0a\\u5e02\\u516c\\u53f8\\u80a1\\u6743\\u51fa\\u8d28\\u7684\\uff0c\\u9002\\u7528\\u516c\\u53f8\\u6cd5\\u6709\\u5173\\u80a1\\u6743\\u8f6c\\u8ba9\\u7684\\u89c4\\u5b9a\\u3002\\n\\n**\\u7b2c\\u56db\\u767e\\u4e94\\u5341\\u4e8c\\u6761** \\u4ee5\\u53ef\\u4ee5\\u8f6c\\u8ba9\\u7684\\u57fa\\u91d1\\u4efd\\u989d\\u3001\\u80a1\\u6743\\u51fa\\u8d28\\u7684\\uff0c\\u5f53\\u4e8b\\u4eba\\u5e94\\u5f53\\u8ba2\\u7acb\\u4e66\\u9762\\u5408\\u540c\\u3002\\u8d28\\u6743\\u81ea\\u57fa\\u91d1\\u4efd\\u989d\\u3001\\u80a1\\u6743\\u767b\\u8bb0\\u4e8e\\u8bc1\\u5238\\u767b\\u8bb0\\u7ed3\\u7b97\\u673a\\u6784\\u6216\\u8005\\u516c\\u53f8\\u7ae0\\u7a0b\\u8f7d\\u660e\\u7684\\u80a1\\u6743\\u767b\\u8bb0\\u7c3f\\u65f6\\u8bbe\\u7acb\\u3002\\n\\u4ee5\\u672a\\u4e0a\\u5e02\\u516c\\u53f8\\u80a1\\u6743\\u51fa\\u8d28\\u7684\\uff0c\\u9002\\u7528\\u516c\\u53f8\\u6cd5\\u6709\\u5173\\u80a1\\u6743\\u8f6c\\u8ba9\\u7684\\u89c4\\u5b9a\\u3002\\n\\n**\\u7b2c\\u56db\\u767e\\u4e94\\u5341\\u4e09\\u6761** \\u4ee5\\u53ef\\u4ee5\\u8f6c\\u8ba9\\u7684\\u6ce8\\u518c\\u5546\\u6807\\u4e13\\u7528\\u6743\\u3001\\u4e13\\u5229\\u6743\\u3001\\u8457\\u4f5c\\u6743\\u7b49\\u77e5\\u8bc6\\u4ea7\\u6743\\u4e2d\\u7684\\u8d22\\u4ea7\\u6743\\u51fa\\u8d28\\u7684\\uff0c\\u5f53\\u4e8b\\u4eba\\u5e94\\u5f53\\u8ba2\\u7acb\\u4e66\\u9762\\u5408\\u540c\\u3002\\u8d28\\u6743\\u81ea\\u6743\\u5229\\u8d28\\u62bc\\u767b\\u8bb0\\u4e8e\\u76f8\\u5173\\u90e8\\u95e8\\u65f6\\u8bbe\\u7acb\\u3002\\n\\n**\\u7b2c\\u56db\\u767e\\u4e94\\u5341\\u56db\\u6761** \\u4ee5\\u5e94\\u6536\\u8d26\\u6b3e\\u51fa\\u8d28\\u7684\\uff0c\\u5f53\\u4e8b\\u4eba\\u5e94\\u5f53\\u8ba2\\u7acb\\u4e66\\u9762\\u5408\\u540c\\u3002\\u8d28\\u6743\\u81ea\\u5e94\\u6536\\u8d26\\u6b3e\\u8d28\\u62bc\\u767b\\u8bb0\\u4e8e\\u4e2d\\u56fd\\u4eba\\u6c11\\u94f6\\u884c\\u5f81\\u4fe1\\u4e2d\\u5fc3\\u65f6\\u8bbe\\u7acb\\u3002\\n\\n**\\u7b2c\\u56db\\u767e\\u4e94\\u5341\\u4e94\\u6761** \\u4ee5\\u6cd5\\u5f8b\\u3001\\u884c\\u653f\\u6cd5\\u89c4\\u89c4\\u5b9a\\u53ef\\u4ee5\\u51fa\\u8d28\\u7684\\u5176\\u4ed6\\u8d22\\u4ea7\\u6743\\u5229\\u51fa\\u8d28\\u7684\\uff0c\\u4f9d\\u7167\\u6cd5\\u5f8b\\u3001\\u884c\\u653f\\u6cd5\\u89c4\\u7684\\u89c4\\u5b9a\\u3002\\n\\n**\\u7b2c\\u56db\\u767e\\u4e94\\u5341\\u516d\\u6761** \\u6743\\u5229\\u8d28\\u6743\\u9664\\u9002\\u7528\\u672c\\u8282\\u89c4\\u5b9a\\u5916\\uff0c\\u53c2\\u7167\\u9002\\u7528\\u672c\\u7ae0\\u52a8\\u4ea7\\u8d28\\u6743\\u7684\\u6709\\u5173\\u89c4\\u5b9a\\u3002\\n\\n####\",\n",
      "        0.6140841245651245\n",
      "    ],\n",
      "    [\n",
      "        \"\\u7b2c\\u4e09\\u7ae0 \\u5408\\u540c\\u7684\\u53d8\\u66f4\\u548c\\u8f6c\\u8ba9\\n\\n**\\u7b2c\\u4e94\\u767e\\u56db\\u5341\\u516b\\u6761** \\u5f53\\u4e8b\\u4eba\\u534f\\u5546\\u4e00\\u81f4\\uff0c\\u53ef\\u4ee5\\u53d8\\u66f4\\u5408\\u540c\\u3002\\n\\n**\\u7b2c\\u4e94\\u767e\\u56db\\u5341\\u4e5d\\u6761** \\u5f53\\u4e8b\\u4eba\\u5bf9\\u5408\\u540c\\u53d8\\u66f4\\u7684\\u5185\\u5bb9\\u7ea6\\u5b9a\\u4e0d\\u660e\\u786e\\u7684\\uff0c\\u63a8\\u5b9a\\u4e3a\\u672a\\u53d8\\u66f4\\u3002\\n\\n**\\u7b2c\\u4e94\\u767e\\u4e94\\u5341\\u6761** \\u503a\\u6743\\u4eba\\u53ef\\u4ee5\\u5c06\\u5408\\u540c\\u7684\\u6743\\u5229\\u5168\\u90e8\\u6216\\u8005\\u90e8\\u5206\\u8f6c\\u8ba9\\u7ed9\\u7b2c\\u4e09\\u4eba\\uff0c\\u4f46\\u662f\\u6709\\u4e0b\\u5217\\u60c5\\u5f62\\u4e4b\\u4e00\\u7684\\u9664\\u5916\\uff1a\\n\\uff08\\u4e00\\uff09\\u6839\\u636e\\u5408\\u540c\\u6027\\u8d28\\u4e0d\\u5f97\\u8f6c\\u8ba9\\uff1b\\n\\uff08\\u4e8c\\uff09\\u6309\\u7167\\u5f53\\u4e8b\\u4eba\\u7ea6\\u5b9a\\u4e0d\\u5f97\\u8f6c\\u8ba9\\uff1b\\n\\uff08\\u4e09\\uff09\\u4f9d\\u7167\\u6cd5\\u5f8b\\u89c4\\u5b9a\\u4e0d\\u5f97\\u8f6c\\u8ba9\\u3002\\n\\u503a\\u6743\\u4eba\\u8f6c\\u8ba9\\u6743\\u5229\\u7684\\uff0c\\u5e94\\u5f53\\u901a\\u77e5\\u503a\\u52a1\\u4eba\\u3002\\u672a\\u7ecf\\u901a\\u77e5\\uff0c\\u8be5\\u8f6c\\u8ba9\\u5bf9\\u503a\\u52a1\\u4eba\\u4e0d\\u53d1\\u751f\\u6548\\u529b\\u3002\\n\\n**\\u7b2c\\u4e94\\u767e\\u4e94\\u5341\\u4e00\\u6761** \\u503a\\u6743\\u4eba\\u8f6c\\u8ba9\\u6743\\u5229\\u7684\\uff0c\\u53d7\\u8ba9\\u4eba\\u53d6\\u5f97\\u4e0e\\u503a\\u6743\\u6709\\u5173\\u7684\\u4ece\\u6743\\u5229\\uff0c\\u4f46\\u662f\\u8be5\\u4ece\\u6743\\u5229\\u4e13\\u5c5e\\u4e8e\\u503a\\u6743\\u4eba\\u81ea\\u8eab\\u7684\\u9664\\u5916\\u3002\\n\\n**\\u7b2c\\u4e94\\u767e\\u4e94\\u5341\\u4e8c\\u6761** \\u503a\\u52a1\\u4eba\\u5c06\\u5408\\u540c\\u7684\\u4e49\\u52a1\\u5168\\u90e8\\u6216\\u8005\\u90e8\\u5206\\u8f6c\\u8ba9\\u7ed9\\u7b2c\\u4e09\\u4eba\\u7684\\uff0c\\u5e94\\u5f53\\u7ecf\\u503a\\u6743\\u4eba\\u540c\\u610f\\u3002\\n\\n**\\u7b2c\\u4e94\\u767e\\u4e94\\u5341\\u4e09\\u6761** \\u503a\\u52a1\\u4eba\\u8f6c\\u8ba9\\u4e49\\u52a1\\u7684\\uff0c\\u65b0\\u503a\\u52a1\\u4eba\\u53ef\\u4ee5\\u4e3b\\u5f20\\u539f\\u503a\\u52a1\\u4eba\\u5bf9\\u503a\\u6743\\u4eba\\u7684\\u6297\\u8fa9\\u3002\\n\\u65b0\\u503a\\u52a1\\u4eba\\u627f\\u62c5\\u503a\\u52a1\\u7684\\uff0c\\u5e94\\u5f53\\u627f\\u62c5\\u4e0e\\u4e3b\\u503a\\u52a1\\u6709\\u5173\\u7684\\u4ece\\u503a\\u52a1\\uff0c\\u4f46\\u662f\\u8be5\\u4ece\\u503a\\u52a1\\u4e13\\u5c5e\\u4e8e\\u539f\\u503a\\u52a1\\u4eba\\u81ea\\u8eab\\u7684\\u9664\\u5916\\u3002\\n\\n**\\u7b2c\\u4e94\\u767e\\u4e94\\u5341\\u56db\\u6761** \\u5f53\\u4e8b\\u4eba\\u4e00\\u65b9\\u7ecf\\u5bf9\\u65b9\\u540c\\u610f\\uff0c\\u53ef\\u4ee5\\u5c06\\u81ea\\u5df1\\u5728\\u5408\\u540c\\u4e2d\\u7684\\u6743\\u5229\\u548c\\u4e49\\u52a1\\u4e00\\u5e76\\u8f6c\\u8ba9\\u7ed9\\u7b2c\\u4e09\\u4eba\\u3002\\n\\n**\\u7b2c\\u4e94\\u767e\\u4e94\\u5341\\u4e94\\u6761** \\u6743\\u5229\\u548c\\u4e49\\u52a1\\u4e00\\u5e76\\u8f6c\\u8ba9\\u7684\\uff0c\\u9002\\u7528\\u503a\\u6743\\u8f6c\\u8ba9\\u3001\\u503a\\u52a1\\u8f6c\\u8ba9\\u7684\\u6709\\u5173\\u89c4\\u5b9a\\u3002\\n\\n**\\u7b2c\\u4e94\\u767e\\u4e94\\u5341\\u516d\\u6761** \\u5408\\u540c\\u53d8\\u66f4\\u7684\\uff0c\\u4e0d\\u5f71\\u54cd\\u5f53\\u4e8b\\u4eba\\u8bf7\\u6c42\\u635f\\u5bb3\\u8d54\\u507f\\u7684\\u6743\\u5229\\u3002\\n\\n###\",\n",
      "        0.6051520109176636\n",
      "    ],\n",
      "    [\n",
      "        \"\\u7b2c\\u516d\\u8282 \\u5730\\u5f79\\u6743\\n\\n**\\u7b2c\\u4e09\\u767e\\u516b\\u5341\\u516b\\u6761** \\u5730\\u5f79\\u6743\\u4eba\\u6709\\u6743\\u4f9d\\u7167\\u5408\\u540c\\u7ea6\\u5b9a\\uff0c\\u5229\\u7528\\u4ed6\\u4eba\\u7684\\u4e0d\\u52a8\\u4ea7\\uff0c\\u4ee5\\u63d0\\u9ad8\\u81ea\\u5df1\\u7684\\u4e0d\\u52a8\\u4ea7\\u7684\\u6548\\u76ca\\u3002\\n\\u524d\\u6b3e\\u6240\\u79f0\\u4ed6\\u4eba\\u7684\\u4e0d\\u52a8\\u4ea7\\u4e3a\\u4f9b\\u5f79\\u5730\\uff0c\\u81ea\\u5df1\\u7684\\u4e0d\\u52a8\\u4ea7\\u4e3a\\u9700\\u5f79\\u5730\\u3002\\n\\n**\\u7b2c\\u4e09\\u767e\\u516b\\u5341\\u4e5d\\u6761** \\u5730\\u5f79\\u6743\\u5408\\u540c\\u4e00\\u822c\\u5305\\u62ec\\u4e0b\\u5217\\u6761\\u6b3e\\uff1a\\n\\uff08\\u4e00\\uff09\\u5f53\\u4e8b\\u4eba\\u7684\\u59d3\\u540d\\u6216\\u8005\\u540d\\u79f0\\u548c\\u4f4f\\u6240\\uff1b\\n\\uff08\\u4e8c\\uff09\\u4f9b\\u5f79\\u5730\\u548c\\u9700\\u5f79\\u5730\\u7684\\u4f4d\\u7f6e\\uff1b\\n\\uff08\\u4e09\\uff09\\u5730\\u5f79\\u6743\\u7684\\u76ee\\u7684\\u548c\\u671f\\u9650\\uff1b\\n\\uff08\\u56db\\uff09\\u5229\\u7528\\u4f9b\\u5f79\\u5730\\u7684\\u65b9\\u5f0f\\uff1b\\n\\uff08\\u4e94\\uff09\\u62a5\\u916c\\u53ca\\u5176\\u652f\\u4ed8\\u65b9\\u5f0f\\uff1b\\n\\uff08\\u516d\\uff09\\u4e89\\u8bae\\u89e3\\u51b3\\u65b9\\u5f0f\\u3002\\n\\n**\\u7b2c\\u4e09\\u767e\\u4e5d\\u5341\\u6761** \\u8bbe\\u7acb\\u5730\\u5f79\\u6743\\uff0c\\u5f53\\u4e8b\\u4eba\\u5e94\\u5f53\\u4f9d\\u7167\\u6cd5\\u5f8b\\u89c4\\u5b9a\\u529e\\u7406\\u767b\\u8bb0\\u3002\\n\\u672a\\u7ecf\\u767b\\u8bb0\\uff0c\\u4e0d\\u5f97\\u5bf9\\u6297\\u5584\\u610f\\u7b2c\\u4e09\\u4eba\\u3002\\n\\n**\\u7b2c\\u4e09\\u767e\\u4e5d\\u5341\\u4e00\\u6761** \\u5730\\u5f79\\u6743\\u4eba\\u6709\\u6743\\u4f9d\\u7167\\u5408\\u540c\\u7ea6\\u5b9a\\uff0c\\u5229\\u7528\\u4f9b\\u5f79\\u5730\\uff0c\\u4ee5\\u63d0\\u9ad8\\u9700\\u5f79\\u5730\\u7684\\u6548\\u76ca\\u3002\\n\\u5730\\u5f79\\u6743\\u4eba\\u884c\\u4f7f\\u6743\\u5229\\uff0c\\u4e0d\\u5f97\\u635f\\u5bb3\\u4f9b\\u5f79\\u5730\\u6743\\u5229\\u4eba\\u7684\\u5408\\u6cd5\\u6743\\u76ca\\u3002\\n\\n**\\u7b2c\\u4e09\\u767e\\u4e5d\\u5341\\u4e8c\\u6761** \\u4f9b\\u5f79\\u5730\\u6743\\u5229\\u4eba\\u5e94\\u5f53\\u6309\\u7167\\u7ea6\\u5b9a\\uff0c\\u5141\\u8bb8\\u5730\\u5f79\\u6743\\u4eba\\u5229\\u7528\\u5176\\u571f\\u5730\\u3002\\n\\u4f9b\\u5f79\\u5730\\u6743\\u5229\\u4eba\\u4e0d\\u5f97\\u59a8\\u788d\\u5730\\u5f79\\u6743\\u4eba\\u884c\\u4f7f\\u6743\\u5229\\u3002\\n\\n**\\u7b2c\\u4e09\\u767e\\u4e5d\\u5341\\u4e09\\u6761** \\u5730\\u5f79\\u6743\\u671f\\u9650\\u5c4a\\u6ee1\\u6216\\u8005\\u5730\\u5f79\\u6743\\u4eba\\u653e\\u5f03\\u5730\\u5f79\\u6743\\u7684\\uff0c\\u5730\\u5f79\\u6743\\u6d88\\u706d\\u3002\\n\\u5730\\u5f79\\u6743\\u6d88\\u706d\\u7684\\uff0c\\u767b\\u8bb0\\u673a\\u6784\\u5e94\\u5f53\\u4f9d\\u6cd5\\u529e\\u7406\\u6ce8\\u9500\\u767b\\u8bb0\\u3002\\n\\n**\\u7b2c\\u4e09\\u767e\\u4e5d\\u5341\\u56db\\u6761** \\u5730\\u5f79\\u6743\\u4eba\\u5e94\\u5f53\\u6309\\u7167\\u5408\\u540c\\u7ea6\\u5b9a\\u652f\\u4ed8\\u62a5\\u916c\\u3002\\n\\u5730\\u5f79\\u6743\\u4eba\\u5e94\\u5f53\\u6309\\u7167\\u5408\\u540c\\u7ea6\\u5b9a\\uff0c\\u4ee5\\u5408\\u7406\\u7684\\u65b9\\u5f0f\\u5229\\u7528\\u4f9b\\u5f79\\u5730\\u3002\\n\\n**\\u7b2c\\u4e09\\u767e\\u4e5d\\u5341\\u4e94\\u6761** \\u5730\\u5f79\\u6743\\u4e0d\\u5f97\\u5355\\u72ec\\u8f6c\\u8ba9\\u3002\\u571f\\u5730\\u627f\\u5305\\u7ecf\\u8425\\u6743\\u3001\\u5efa\\u8bbe\\u7528\\u5730\\u4f7f\\u7528\\u6743\\u3001\\u5b85\\u57fa\\u5730\\u4f7f\\u7528\\u6743\\u7b49\\u6743\\u5229\\u8f6c\\u8ba9\\u7684\\uff0c\\u5730\\u5f79\\u6743\\u4e00\\u5e76\\u8f6c\\u8ba9\\u3002\\n\\u5730\\u5f79\\u6743\\u4e0d\\u5f97\\u5355\\u72ec\\u62b5\\u62bc\\u3002\\u571f\\u5730\\u627f\\u5305\\u7ecf\\u8425\\u6743\\u3001\\u5efa\\u8bbe\\u7528\\u5730\\u4f7f\\u7528\\u6743\\u3001\\u5b85\\u57fa\\u5730\\u4f7f\\u7528\\u6743\\u7b49\\u6743\\u5229\\u62b5\\u62bc\\u7684\\uff0c\\u5730\\u5f79\\u6743\\u4e00\\u5e76\\u62b5\\u62bc\\u3002\\n\\n**\\u7b2c\\u4e09\\u767e\\u4e5d\\u5341\\u516d\\u6761** \\u5730\\u5f79\\u6743\\u5b58\\u7eed\\u671f\\u95f4\\uff0c\\u4f9b\\u5f79\\u5730\\u6743\\u5229\\u4eba\\u5c06\\u4f9b\\u5f79\\u5730\\u8f6c\\u8ba9\\u3001\\u51fa\\u79df\\u6216\\u8005\\u62b5\\u62bc\\u7684\\uff0c\\u5730\\u5f79\\u6743\\u4e0d\\u53d7\\u5f71\\u54cd\\u3002\\n\\n**\\u7b2c\\u4e09\\u767e\\u4e5d\\u5341\\u4e03\\u6761** \\u5730\\u5f79\\u6743\\u56e0\\u4f9b\\u5f79\\u5730\\u6743\\u5229\\u4eba\\u5c06\\u4f9b\\u5f79\\u5730\\u8f6c\\u8ba9\\u3001\\u51fa\\u79df\\u6216\\u8005\\u62b5\\u62bc\\u800c\\u6d88\\u706d\\u7684\\uff0c\\u5730\\u5f79\\u6743\\u4eba\\u6709\\u6743\\u8bf7\\u6c42\\u8d54\\u507f\\u635f\\u5931\\u3002\\n\\u5730\\u5f79\\u6743\\u56e0\\u4f9b\\u5f79\\u5730\\u6743\\u5229\\u4eba\\u5c06\\u4f9b\\u5f79\\u5730\\u8f6c\\u8ba9\\u3001\\u51fa\\u79df\\u6216\\u8005\\u62b5\\u62bc\\u800c\\u6d88\\u706d\\u7684\\uff0c\\u5730\\u5f79\\u6743\\u4eba\\u53ef\\u4ee5\\u5411\\u4f9b\\u5f79\\u5730\\u6743\\u5229\\u4eba\\u8bf7\\u6c42\\u635f\\u5bb3\\u8d54\\u507f\\u3002\\n\\n**\\u7b2c\\u4e09\\u767e\\u4e5d\\u5341\\u516b\\u6761** \\u5730\\u5f79\\u6743\\u4eba\\u6709\\u6743\\u4f9d\\u7167\\u5408\\u540c\\u7ea6\\u5b9a\\uff0c\\u5229\\u7528\\u4ed6\\u4eba\\u7684\\u4e0d\\u52a8\\u4ea7\\uff0c\\u4ee5\\u63d0\\u9ad8\\u81ea\\u5df1\\u7684\\u4e0d\\u52a8\\u4ea7\\u7684\\u6548\\u76ca\\u3002\\n\\u524d\\u6b3e\\u6240\\u79f0\\u4ed6\\u4eba\\u7684\\u4e0d\\u52a8\\u4ea7\\u4e3a\\u4f9b\\u5f79\\u5730\\uff0c\\u81ea\\u5df1\\u7684\\u4e0d\\u52a8\\u4ea7\\u4e3a\\u9700\\u5f79\\u5730\\u3002\\n\\n###\",\n",
      "        0.601395308971405\n",
      "    ]\n",
      "]\n"
     ]
    }
   ],
   "source": [
    "import json\n",
    "\n",
    "retrieved_lines_with_distances = [\n",
    "    (res[\"entity\"][\"text\"], res[\"distance\"]) for res in search_res[0]\n",
    "]\n",
    "print(json.dumps(retrieved_lines_with_distances, indent=4))"
   ]
  },
  {
   "cell_type": "markdown",
   "id": "ccd4c186",
   "metadata": {},
   "source": [
    "### 使用 LLM 获取 RAG 响应"
   ]
  },
  {
   "cell_type": "markdown",
   "id": "4cd1ae3a",
   "metadata": {},
   "source": [
    "将检索到的文档转换为字符串格式。"
   ]
  },
  {
   "cell_type": "code",
   "execution_count": 24,
   "id": "0676448f",
   "metadata": {},
   "outputs": [],
   "source": [
    "context = \"\\n\".join(\n",
    "    [line_with_distance[0] for line_with_distance in retrieved_lines_with_distances]\n",
    ")"
   ]
  },
  {
   "cell_type": "code",
   "execution_count": 25,
   "id": "19998758-7f98-4cb8-8789-625fcfaad00e",
   "metadata": {},
   "outputs": [
    {
     "data": {
      "text/plain": [
       "'审查申请人提供的材料是哪一条的？'"
      ]
     },
     "execution_count": 25,
     "metadata": {},
     "output_type": "execute_result"
    }
   ],
   "source": [
    "question"
   ]
  },
  {
   "cell_type": "markdown",
   "id": "7ad25756",
   "metadata": {},
   "source": [
    "为语言模型定义系统和用户提示。此提示是使用从 Milvus 检索到的文档组装而成的。"
   ]
  },
  {
   "cell_type": "code",
   "execution_count": 26,
   "id": "b655f6f3",
   "metadata": {},
   "outputs": [],
   "source": [
    "SYSTEM_PROMPT = \"\"\"\n",
    "Human: 你是一个 AI 助手。你能够从提供的上下文段落片段中找到问题的答案。\n",
    "\"\"\"\n",
    "USER_PROMPT = f\"\"\"\n",
    "请使用以下用 <context> 标签括起来的信息片段来回答用 <question> 标签括起来的问题。最后追加原始回答的中文翻译，并用 <translated>和</translated> 标签标注。\n",
    "<context>\n",
    "{context}\n",
    "</context>\n",
    "<question>\n",
    "{question}\n",
    "</question>\n",
    "<translated>\n",
    "</translated>\n",
    "\"\"\""
   ]
  },
  {
   "cell_type": "markdown",
   "id": "184b457f",
   "metadata": {},
   "source": [
    "使用 DeepSeek 提供的 `deepseek-chat` 模型根据提示生成响应。"
   ]
  },
  {
   "cell_type": "code",
   "execution_count": 27,
   "id": "638a7561",
   "metadata": {},
   "outputs": [
    {
     "name": "stdout",
     "output_type": "stream",
     "text": [
      "根据提供的上下文，问题\"审查申请人提供的材料是哪一条的？\"并未明确指向具体的审查内容或材料类型，因此无法直接从给定条文中找到完全对应的条款。不过，以下相关条文可能涉及材料审查：\n",
      "\n",
      "1. **权利质押登记相关条文**（如第四百五十条至第四百五十五条）提到不同权利质权设立时需提交材料并进行登记，例如：\n",
      "   - 票据/仓单等需交付权利凭证（450条）\n",
      "   - 知识产权质押需登记于相关部门（453条）\n",
      "   - 应收账款质押需在中国人民银行征信中心登记（454条）\n",
      "\n",
      "2. **地役权设立**（第三百九十条）要求当事人依法办理登记，登记时需提交合同等材料。\n",
      "\n",
      "由于问题描述较笼统，建议明确具体审查的材料类型（如质押登记材料、合同变更材料或地役权登记材料等）以便精准对应条文。\n",
      "\n",
      "<translated>\n",
      "根据提供的上下文，问题“审查申请人提供的材料对应哪一条款”未明确具体审查内容。可能相关的条款包括：\n",
      "1. 权利质押登记条款（第450-455条）要求不同权利质押需提交特定材料并登记；\n",
      "2. 地役权登记条款（第390条）要求办理登记手续。\n",
      "建议明确材料类型（如质押文件、地役权合同等）以获取准确条文对应。\n",
      "</translated>\n"
     ]
    }
   ],
   "source": [
    "response = deepseek_client.chat.completions.create(\n",
    "    model=\"deepseek-chat\",\n",
    "    messages=[\n",
    "        {\"role\": \"system\", \"content\": SYSTEM_PROMPT},\n",
    "        {\"role\": \"user\", \"content\": USER_PROMPT},\n",
    "    ],\n",
    ")\n",
    "print(response.choices[0].message.content)"
   ]
  },
  {
   "cell_type": "code",
   "execution_count": null,
   "id": "50ce3b55-7daa-4727-95bd-3b00f6aa2b03",
   "metadata": {},
   "outputs": [],
   "source": []
  }
 ],
 "metadata": {
  "kernelspec": {
   "display_name": "Python 3 (ipykernel)",
   "language": "python",
   "name": "python3"
  },
  "language_info": {
   "codemirror_mode": {
    "name": "ipython",
    "version": 3
   },
   "file_extension": ".py",
   "mimetype": "text/x-python",
   "name": "python",
   "nbconvert_exporter": "python",
   "pygments_lexer": "ipython3",
   "version": "3.13.5"
  }
 },
 "nbformat": 4,
 "nbformat_minor": 5
}
